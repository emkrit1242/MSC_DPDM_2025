{
  "nbformat": 4,
  "nbformat_minor": 0,
  "metadata": {
    "colab": {
      "provenance": [],
      "toc_visible": true,
      "include_colab_link": true
    },
    "kernelspec": {
      "name": "python3",
      "display_name": "Python 3"
    },
    "language_info": {
      "name": "python"
    }
  },
  "cells": [
    {
      "cell_type": "markdown",
      "metadata": {
        "id": "view-in-github",
        "colab_type": "text"
      },
      "source": [
        "<a href=\"https://colab.research.google.com/github/emkrit1242/MSC_DPDM_2025/blob/main/Python101.ipynb\" target=\"_parent\"><img src=\"https://colab.research.google.com/assets/colab-badge.svg\" alt=\"Open In Colab\"/></a>"
      ]
    },
    {
      "cell_type": "markdown",
      "source": [
        "#**Markdown**\n",
        "\n",
        "\n",
        "\n",
        "\n",
        "\n"
      ],
      "metadata": {
        "id": "nMPtlNbUpj9V"
      }
    },
    {
      "cell_type": "code",
      "execution_count": null,
      "metadata": {
        "colab": {
          "base_uri": "https://localhost:8080/"
        },
        "id": "atsQzDdgpJTp",
        "outputId": "f712506c-fa91-4a8b-8d76-00dfc02d8fd1"
      },
      "outputs": [
        {
          "output_type": "stream",
          "name": "stdout",
          "text": [
            "kritsadakorn\n"
          ]
        }
      ],
      "source": [
        "print(\"kritsadakorn\")"
      ]
    },
    {
      "cell_type": "code",
      "source": [
        "print(\"phuyodploy\")"
      ],
      "metadata": {
        "colab": {
          "base_uri": "https://localhost:8080/"
        },
        "id": "HHNuubC5pRHL",
        "outputId": "3f66d0fe-6a8e-468f-b25f-acf9e64d4a1f"
      },
      "execution_count": null,
      "outputs": [
        {
          "output_type": "stream",
          "name": "stdout",
          "text": [
            "phuyodploy\n"
          ]
        }
      ]
    },
    {
      "cell_type": "markdown",
      "source": [
        "# ใช้  header เพื่อจัดการ เอกสารและการ index\n",
        "\n",
        "# header1\n",
        "\n",
        "## header2\n",
        "\n",
        "### header3\n",
        "\n",
        "*body* ~department~"
      ],
      "metadata": {
        "id": "U2yWfZdJ0ajZ"
      }
    },
    {
      "cell_type": "markdown",
      "source": [
        "# Python101"
      ],
      "metadata": {
        "id": "VmGtCcGmO4nt"
      }
    },
    {
      "cell_type": "markdown",
      "source": [
        "## Python example (ตัวอย่าง Python)"
      ],
      "metadata": {
        "id": "JUIWH8idYBIF"
      }
    },
    {
      "cell_type": "code",
      "source": [
        "for i in ['a','b','c'] :\n",
        "  print(i,end=' ')\n",
        "  print('/')\n",
        "  for j in range(10):\n",
        "    ccc=10"
      ],
      "metadata": {
        "colab": {
          "base_uri": "https://localhost:8080/"
        },
        "id": "dyfOsfVnX8zV",
        "outputId": "d8aab642-3901-47f2-951e-2ec7e1126b12"
      },
      "execution_count": null,
      "outputs": [
        {
          "output_type": "stream",
          "name": "stdout",
          "text": [
            "a /\n",
            "b /\n",
            "c /\n"
          ]
        }
      ]
    },
    {
      "cell_type": "code",
      "execution_count": null,
      "metadata": {
        "colab": {
          "base_uri": "https://localhost:8080/"
        },
        "id": "UkqSZC68X4cg",
        "outputId": "868662fd-5104-4d59-f917-b9a881c9ba17"
      },
      "outputs": [
        {
          "output_type": "stream",
          "name": "stdout",
          "text": [
            "a /\n",
            "10\n",
            "10\n",
            "10\n",
            "10\n",
            "10\n",
            "10\n",
            "10\n",
            "10\n",
            "10\n",
            "10\n",
            "b /\n",
            "10\n",
            "10\n",
            "10\n",
            "10\n",
            "10\n",
            "10\n",
            "10\n",
            "10\n",
            "10\n",
            "10\n",
            "c /\n",
            "10\n",
            "10\n",
            "10\n",
            "10\n",
            "10\n",
            "10\n",
            "10\n",
            "10\n",
            "10\n",
            "10\n"
          ]
        }
      ],
      "source": [
        "for i in ['a','b','c']:\n",
        "    print(i,end=' ')\n",
        "    print('/')\n",
        "    for j in range (10):\n",
        "        ccc=10\n",
        "        print(ccc)"
      ]
    },
    {
      "cell_type": "markdown",
      "source": [
        "# Intro to string and print statement\n",
        "\n",
        "การจัดการข้อมูลประเภท String"
      ],
      "metadata": {
        "id": "sUmW9DZPX9dY"
      }
    },
    {
      "cell_type": "markdown",
      "source": [
        "\n",
        "วิธีการ define ตัวแปร\n",
        "\n",
        "```\n",
        "variable_a = ข้อมูลที่เราต้องการ\n",
        "```\n",
        "\n"
      ],
      "metadata": {
        "id": "_ulwTs5ZluYY"
      }
    },
    {
      "cell_type": "markdown",
      "source": [
        "## String(text) ข้อมูลประเภท String"
      ],
      "metadata": {
        "id": "mgTqdqC-YbVr"
      }
    },
    {
      "cell_type": "code",
      "source": [
        "text1 = \"Stat\""
      ],
      "metadata": {
        "id": "Aki52LSMYeGR"
      },
      "execution_count": null,
      "outputs": []
    },
    {
      "cell_type": "code",
      "source": [
        "text2 = 'ม.ขอนแก่น'"
      ],
      "metadata": {
        "id": "DXqpcfVVYhNf"
      },
      "execution_count": null,
      "outputs": []
    },
    {
      "cell_type": "code",
      "source": [
        "text3 = '123456'"
      ],
      "metadata": {
        "id": "crjur8eGqQtw"
      },
      "execution_count": null,
      "outputs": []
    },
    {
      "cell_type": "code",
      "source": [
        "print(text1)"
      ],
      "metadata": {
        "colab": {
          "base_uri": "https://localhost:8080/"
        },
        "id": "gYbLncc1Yhwy",
        "outputId": "313528e0-e0cb-4b36-9811-e9a471dc061b"
      },
      "execution_count": null,
      "outputs": [
        {
          "output_type": "stream",
          "name": "stdout",
          "text": [
            "Stat\n"
          ]
        }
      ]
    },
    {
      "cell_type": "markdown",
      "source": [
        "เราสามารถนำ String + String ได้"
      ],
      "metadata": {
        "id": "w78M592zPNl3"
      }
    },
    {
      "cell_type": "code",
      "source": [
        "print(text1+text2)"
      ],
      "metadata": {
        "colab": {
          "base_uri": "https://localhost:8080/"
        },
        "id": "mZZ3M0wbYkru",
        "outputId": "65c62ecd-9e55-4f97-d81d-12c3aaa49ea0"
      },
      "execution_count": null,
      "outputs": [
        {
          "output_type": "stream",
          "name": "stdout",
          "text": [
            "Statม.ขอนแก่น\n"
          ]
        }
      ]
    },
    {
      "cell_type": "code",
      "source": [
        "text1+text2+text3"
      ],
      "metadata": {
        "colab": {
          "base_uri": "https://localhost:8080/",
          "height": 35
        },
        "id": "oIXVyRTExKOV",
        "outputId": "fc9dcaa2-1186-48a0-cc60-80f5901d74c3"
      },
      "execution_count": null,
      "outputs": [
        {
          "output_type": "execute_result",
          "data": {
            "text/plain": [
              "'Statม.ขอนแก่น123456'"
            ],
            "application/vnd.google.colaboratory.intrinsic+json": {
              "type": "string"
            }
          },
          "metadata": {},
          "execution_count": 9
        }
      ]
    },
    {
      "cell_type": "code",
      "source": [
        "text4 = text1+text2"
      ],
      "metadata": {
        "id": "z9eoqcVXxzbr"
      },
      "execution_count": null,
      "outputs": []
    },
    {
      "cell_type": "code",
      "source": [
        "text4"
      ],
      "metadata": {
        "colab": {
          "base_uri": "https://localhost:8080/",
          "height": 35
        },
        "id": "dygk4kM6yCsu",
        "outputId": "c5c96630-419f-4d38-93e5-9f84200dc8a7"
      },
      "execution_count": null,
      "outputs": [
        {
          "output_type": "execute_result",
          "data": {
            "text/plain": [
              "'Statม.ขอนแก่น'"
            ],
            "application/vnd.google.colaboratory.intrinsic+json": {
              "type": "string"
            }
          },
          "metadata": {},
          "execution_count": 14
        }
      ]
    },
    {
      "cell_type": "code",
      "source": [
        "text1 = text1+text2"
      ],
      "metadata": {
        "id": "F94AwMxHyfca"
      },
      "execution_count": null,
      "outputs": []
    },
    {
      "cell_type": "code",
      "source": [
        "print(text1)\n",
        "print(text2)"
      ],
      "metadata": {
        "colab": {
          "base_uri": "https://localhost:8080/"
        },
        "id": "5xcWhEscykUr",
        "outputId": "38abe469-eb6d-405c-c95a-6464682306c0"
      },
      "execution_count": null,
      "outputs": [
        {
          "output_type": "stream",
          "name": "stdout",
          "text": [
            "Statม.ขอนแก่น\n",
            "ม.ขอนแก่น\n"
          ]
        }
      ]
    },
    {
      "cell_type": "code",
      "source": [
        "int1 = 5"
      ],
      "metadata": {
        "id": "E-kEVHKhoo9j"
      },
      "execution_count": null,
      "outputs": []
    },
    {
      "cell_type": "markdown",
      "source": [
        "แต่ไม่สามารถ + ตัวเลขได้"
      ],
      "metadata": {
        "id": "z_z8I5lTPRyK"
      }
    },
    {
      "cell_type": "code",
      "source": [
        "print(text1 + int1)"
      ],
      "metadata": {
        "colab": {
          "base_uri": "https://localhost:8080/",
          "height": 141
        },
        "id": "zRL7x7KpYquR",
        "outputId": "ecb6c3d5-d670-4242-e758-1cde66ed19b4"
      },
      "execution_count": null,
      "outputs": [
        {
          "output_type": "error",
          "ename": "TypeError",
          "evalue": "can only concatenate str (not \"int\") to str",
          "traceback": [
            "\u001b[0;31m---------------------------------------------------------------------------\u001b[0m",
            "\u001b[0;31mTypeError\u001b[0m                                 Traceback (most recent call last)",
            "\u001b[0;32m/tmp/ipython-input-18-231686055.py\u001b[0m in \u001b[0;36m<cell line: 0>\u001b[0;34m()\u001b[0m\n\u001b[0;32m----> 1\u001b[0;31m \u001b[0mprint\u001b[0m\u001b[0;34m(\u001b[0m\u001b[0mtext1\u001b[0m \u001b[0;34m+\u001b[0m \u001b[0mint1\u001b[0m\u001b[0;34m)\u001b[0m\u001b[0;34m\u001b[0m\u001b[0;34m\u001b[0m\u001b[0m\n\u001b[0m",
            "\u001b[0;31mTypeError\u001b[0m: can only concatenate str (not \"int\") to str"
          ]
        }
      ]
    },
    {
      "cell_type": "code",
      "source": [
        "print(int1 + text3)"
      ],
      "metadata": {
        "colab": {
          "base_uri": "https://localhost:8080/",
          "height": 158
        },
        "id": "oYl4m7uDqe6B",
        "outputId": "0d28ca9c-055d-4639-891d-9fa62343ffaa"
      },
      "execution_count": null,
      "outputs": [
        {
          "output_type": "error",
          "ename": "TypeError",
          "evalue": "unsupported operand type(s) for +: 'int' and 'str'",
          "traceback": [
            "\u001b[0;31m---------------------------------------------------------------------------\u001b[0m",
            "\u001b[0;31mTypeError\u001b[0m                                 Traceback (most recent call last)",
            "\u001b[0;32m<ipython-input-8-02effb2cf50b>\u001b[0m in \u001b[0;36m<cell line: 1>\u001b[0;34m()\u001b[0m\n\u001b[0;32m----> 1\u001b[0;31m \u001b[0mprint\u001b[0m\u001b[0;34m(\u001b[0m\u001b[0mint1\u001b[0m \u001b[0;34m+\u001b[0m \u001b[0mtext3\u001b[0m\u001b[0;34m)\u001b[0m\u001b[0;34m\u001b[0m\u001b[0;34m\u001b[0m\u001b[0m\n\u001b[0m",
            "\u001b[0;31mTypeError\u001b[0m: unsupported operand type(s) for +: 'int' and 'str'"
          ]
        }
      ]
    },
    {
      "cell_type": "code",
      "source": [
        "print(str(int1) + text1)"
      ],
      "metadata": {
        "colab": {
          "base_uri": "https://localhost:8080/"
        },
        "id": "-llIefCzYtaH",
        "outputId": "5431129d-4723-4eb4-e1e4-c61403d3dc26"
      },
      "execution_count": null,
      "outputs": [
        {
          "output_type": "stream",
          "name": "stdout",
          "text": [
            "5Statม.ขอนแก่น\n"
          ]
        }
      ]
    },
    {
      "cell_type": "markdown",
      "source": [
        "## การใช้ generative ai ช่วยในการเขียน code"
      ],
      "metadata": {
        "id": "7kOdaGHD4t4h"
      }
    },
    {
      "cell_type": "code",
      "source": [
        "# prompt: สร้าง string ว่า \"Stat ม.ขอนแก่น 1234\"  `จากตัวแปร text1 text2 text3 พร้อมทั้งใส่ comment อธิบาย code แต่ละบรรทัด\n",
        "\n",
        "# กำหนดตัวแปร text1\n",
        "text1 = \"Stat\"\n",
        "# กำหนดตัวแปร text2\n",
        "text2 = 'ม.ขอนแก่น'\n",
        "# กำหนดตัวแปร text3 และใช้ slice เพื่อเอาแค่ 4 ตัวแรก\n",
        "text3 = '123456'[0:4]\n",
        "# สร้าง string โดยการรวมตัวแปร text1, text2 และ text3 เข้าด้วยกัน โดยมีช่องว่างคั่น\n",
        "full_string = text1 + \" \" + text2 + \" \" + text3\n",
        "# พิมพ์ string ที่ได้ออกมา\n",
        "full_string"
      ],
      "metadata": {
        "colab": {
          "base_uri": "https://localhost:8080/",
          "height": 35
        },
        "id": "aVPCbPwGz0cz",
        "outputId": "66416fcc-b35c-4864-f8a5-7a4f80e7ba53"
      },
      "execution_count": null,
      "outputs": [
        {
          "output_type": "execute_result",
          "data": {
            "text/plain": [
              "'Stat ม.ขอนแก่น 1234'"
            ],
            "application/vnd.google.colaboratory.intrinsic+json": {
              "type": "string"
            }
          },
          "metadata": {},
          "execution_count": 24
        }
      ]
    },
    {
      "cell_type": "code",
      "source": [
        "# prompt: สุ่มตัวเลข 10 ตัว ใส่ตัวแปร x\n",
        "\n",
        "import random\n",
        "x = [random.randint(0, 9) for _ in range(10)]\n"
      ],
      "metadata": {
        "id": "rymqmapxrIya"
      },
      "execution_count": null,
      "outputs": []
    },
    {
      "cell_type": "code",
      "source": [
        "print(x)"
      ],
      "metadata": {
        "colab": {
          "base_uri": "https://localhost:8080/"
        },
        "id": "FHqADOxEs49V",
        "outputId": "ec7ecbee-246d-462d-9898-fa0dc4c1689b"
      },
      "execution_count": null,
      "outputs": [
        {
          "output_type": "stream",
          "name": "stdout",
          "text": [
            "[7, 9, 9, 0, 5, 6, 1, 0, 7, 8]\n"
          ]
        }
      ]
    },
    {
      "cell_type": "code",
      "source": [
        "# prompt: สุ่มตัวเลข 100 ตัว แบบ normal distribution โดยมี mean = 6, sd = 2  ใส่ตัวแปร x\n",
        "\n",
        "import numpy as np\n",
        "x = np.random.normal(loc=6, scale=2, size=100)\n",
        "x"
      ],
      "metadata": {
        "colab": {
          "base_uri": "https://localhost:8080/"
        },
        "id": "RLvkfQEa1UHS",
        "outputId": "49bf3460-21c1-4d81-a5f2-0e8229e7f4f0"
      },
      "execution_count": null,
      "outputs": [
        {
          "output_type": "execute_result",
          "data": {
            "text/plain": [
              "array([ 4.46843766, -0.78020199,  6.90372522,  8.20082059,  6.32489478,\n",
              "        3.43029411,  7.90035679,  8.05934414,  7.02999793,  6.21788223,\n",
              "        2.76263077,  2.98468735,  8.90235785,  6.24619292,  2.3437612 ,\n",
              "        4.62066584,  6.0700453 ,  5.52352624,  4.38659276,  7.87619554,\n",
              "        8.9821984 ,  6.43767621,  3.68429426,  4.93611696,  8.08795541,\n",
              "        6.94918127,  8.10806084,  3.51749733,  8.79007216,  7.74754448,\n",
              "        2.53626446,  6.05183685, 10.77811007,  6.2820284 ,  7.01384591,\n",
              "        8.35848474,  5.90653018,  4.95733693,  3.88433417,  2.36779223,\n",
              "        9.7812629 ,  6.35855538,  8.62256942,  6.16945713,  7.6450536 ,\n",
              "        3.05995956,  3.90025623,  4.70289936, 10.34773191,  5.46710675,\n",
              "        5.91159426,  6.33816544,  6.43130303,  5.51429619,  6.80625891,\n",
              "        4.44749387,  7.09474857,  6.47901705,  5.71493197,  7.08156833,\n",
              "        8.41147874,  5.39012936,  3.0747869 ,  6.88932845,  7.98832128,\n",
              "        7.47488012,  7.84188139,  3.57183341,  8.70391983,  9.96566254,\n",
              "        8.59937855,  3.4066719 ,  7.74267413,  8.98768354,  6.34103536,\n",
              "        1.52087063,  5.6103047 ,  8.23534289,  8.41837673,  5.88365304,\n",
              "        7.5023827 ,  4.9208488 ,  6.79918171,  6.25128563,  6.33965214,\n",
              "        5.85844404,  4.41062837,  4.10302741,  7.24117354,  5.05561711,\n",
              "        6.64378897,  2.17349617,  6.79341406,  5.66840671,  3.10606104,\n",
              "        5.58709983,  5.32786771,  6.99886496,  5.9819063 ,  5.27181637])"
            ]
          },
          "metadata": {},
          "execution_count": 34
        }
      ]
    },
    {
      "cell_type": "code",
      "source": [
        "# prompt: สร้าง histogram ของตัวแปร y  เพื่อแสดงว่าเป็นการแจกแจกปกติ โดยมี mean = 6, sd = 2\n",
        "\n",
        "import matplotlib.pyplot as plt\n",
        "\n",
        "# Generate a normal distribution\n",
        "y = np.random.normal(loc=6, scale=2, size=1000)\n",
        "\n",
        "# Create the histogram\n",
        "plt.hist(y, bins=20, density=True, alpha=0.6, color='g')\n",
        "\n",
        "# Add title and labels\n",
        "plt.title('Histogram of y (Normal Distribution)')\n",
        "plt.xlabel('Value')\n",
        "plt.ylabel('Frequency')\n",
        "\n",
        "# Show the plot\n",
        "plt.show()"
      ],
      "metadata": {
        "colab": {
          "base_uri": "https://localhost:8080/",
          "height": 472
        },
        "id": "IbsvjJEf5eYX",
        "outputId": "9117d40c-a028-4fc3-eb75-215a249e6dd0"
      },
      "execution_count": null,
      "outputs": [
        {
          "output_type": "display_data",
          "data": {
            "text/plain": [
              "<Figure size 640x480 with 1 Axes>"
            ],
            "image/png": "[encoded data removed]"
          },
          "metadata": {}
        }
      ]
    },
    {
      "cell_type": "markdown",
      "source": [
        "##Format string"
      ],
      "metadata": {
        "id": "0EDlEEro4cK8"
      }
    },
    {
      "cell_type": "markdown",
      "source": [
        "### เราสามารถจัดการ text แบบพิเศษ (ใช้ตัวแปร หรือ run code ใน text) ได้โดยการใช้\n",
        "\n",
        "```\n",
        "f'ข้อความ1 {ส่วนของ code1} ข้อความ2 {ส่วนของ code2}'\n",
        "```"
      ],
      "metadata": {
        "id": "LLAVvUnFuhe7"
      }
    },
    {
      "cell_type": "code",
      "source": [
        "f'six plus five = {6+5}'"
      ],
      "metadata": {
        "colab": {
          "base_uri": "https://localhost:8080/",
          "height": 35
        },
        "id": "C5A30Uq5ZmAB",
        "outputId": "28a62abb-54ef-4845-d924-86d9563c469e"
      },
      "execution_count": null,
      "outputs": [
        {
          "output_type": "execute_result",
          "data": {
            "text/plain": [
              "'six plus five = 11'"
            ],
            "application/vnd.google.colaboratory.intrinsic+json": {
              "type": "string"
            }
          },
          "metadata": {},
          "execution_count": 44
        }
      ]
    },
    {
      "cell_type": "code",
      "source": [
        "f'six plus five = {6+5:.2f}' # .2f หมายถึงทำเป็นทศนิยม 2 ตำแหน่ง"
      ],
      "metadata": {
        "colab": {
          "base_uri": "https://localhost:8080/",
          "height": 35
        },
        "id": "7uE5avqdZ4Lo",
        "outputId": "e657ffc1-335d-42ec-8837-7e954adfb04d"
      },
      "execution_count": null,
      "outputs": [
        {
          "output_type": "execute_result",
          "data": {
            "text/plain": [
              "'six plus five = 11.00'"
            ],
            "application/vnd.google.colaboratory.intrinsic+json": {
              "type": "string"
            }
          },
          "metadata": {},
          "execution_count": 45
        }
      ]
    },
    {
      "cell_type": "code",
      "source": [
        "f'six plus five = {6+5:.2f}%' # % หมายถึงเป็น %"
      ],
      "metadata": {
        "colab": {
          "base_uri": "https://localhost:8080/",
          "height": 35
        },
        "id": "0bZygJghZnsP",
        "outputId": "ab638ebf-16b5-41e8-a6a1-516a1398cfd6"
      },
      "execution_count": null,
      "outputs": [
        {
          "output_type": "execute_result",
          "data": {
            "text/plain": [
              "'six plus five = 11.00%'"
            ],
            "application/vnd.google.colaboratory.intrinsic+json": {
              "type": "string"
            }
          },
          "metadata": {},
          "execution_count": 46
        }
      ]
    },
    {
      "cell_type": "code",
      "source": [
        "f'six plus five = {6+5.7:.0f}%' # .0 หมายถึง ไม่เอาทศนิยม"
      ],
      "metadata": {
        "colab": {
          "base_uri": "https://localhost:8080/",
          "height": 35
        },
        "id": "YovMbr3zZo4p",
        "outputId": "ae829423-41ad-41a6-fe10-33369b8ee11d"
      },
      "execution_count": null,
      "outputs": [
        {
          "output_type": "execute_result",
          "data": {
            "text/plain": [
              "'six plus five = 12%'"
            ],
            "application/vnd.google.colaboratory.intrinsic+json": {
              "type": "string"
            }
          },
          "metadata": {},
          "execution_count": 48
        }
      ]
    },
    {
      "cell_type": "code",
      "source": [
        "f'six plus five = {6+5:03d}' #แสดงผลลัพธ์ 3 หลัก"
      ],
      "metadata": {
        "colab": {
          "base_uri": "https://localhost:8080/",
          "height": 35
        },
        "id": "ZqEvgTlFZqTi",
        "outputId": "998e0f96-2135-46b2-c709-cfb00d69297e"
      },
      "execution_count": null,
      "outputs": [
        {
          "output_type": "execute_result",
          "data": {
            "text/plain": [
              "'six plus five = 011'"
            ],
            "application/vnd.google.colaboratory.intrinsic+json": {
              "type": "string"
            }
          },
          "metadata": {},
          "execution_count": 47
        }
      ]
    },
    {
      "cell_type": "code",
      "source": [
        "st1 = f'six plus five = {6+5:03d}' #เก็บข้อมูลใน st1"
      ],
      "metadata": {
        "id": "Xk6sLHDoZ-5l"
      },
      "execution_count": null,
      "outputs": []
    },
    {
      "cell_type": "code",
      "source": [
        "st1 #แสดงผลออกมา"
      ],
      "metadata": {
        "colab": {
          "base_uri": "https://localhost:8080/",
          "height": 35
        },
        "id": "07IuSmjnaAbw",
        "outputId": "765b43a7-b42e-4f5a-94d2-d88a57887440"
      },
      "execution_count": null,
      "outputs": [
        {
          "output_type": "execute_result",
          "data": {
            "text/plain": [
              "'six plus five = 011'"
            ],
            "application/vnd.google.colaboratory.intrinsic+json": {
              "type": "string"
            }
          },
          "metadata": {},
          "execution_count": 50
        }
      ]
    },
    {
      "cell_type": "code",
      "source": [
        "f\"six plus five = {'six' + 'five'}\" # การใช้งาน quote และ double quote"
      ],
      "metadata": {
        "colab": {
          "base_uri": "https://localhost:8080/",
          "height": 35
        },
        "id": "dqECkT84wOpF",
        "outputId": "49b854a8-bcf9-4719-b7ab-c549a3e5258d"
      },
      "execution_count": null,
      "outputs": [
        {
          "output_type": "execute_result",
          "data": {
            "text/plain": [
              "'six plus five = sixfive'"
            ],
            "application/vnd.google.colaboratory.intrinsic+json": {
              "type": "string"
            }
          },
          "metadata": {},
          "execution_count": 56
        }
      ]
    },
    {
      "cell_type": "code",
      "source": [
        "f'six plus five = {'six' + 'five'}'"
      ],
      "metadata": {
        "colab": {
          "base_uri": "https://localhost:8080/",
          "height": 106
        },
        "id": "Vg4Q9Mik7tJ0",
        "outputId": "20609d25-6a8c-4fd9-b229-ba221cfb6362"
      },
      "execution_count": null,
      "outputs": [
        {
          "output_type": "error",
          "ename": "SyntaxError",
          "evalue": "f-string: expecting '}' (ipython-input-58-2535454797.py, line 1)",
          "traceback": [
            "\u001b[0;36m  File \u001b[0;32m\"/tmp/ipython-input-58-2535454797.py\"\u001b[0;36m, line \u001b[0;32m1\u001b[0m\n\u001b[0;31m    f'six plus five = {'six' + 'five'}'\u001b[0m\n\u001b[0m                        ^\u001b[0m\n\u001b[0;31mSyntaxError\u001b[0m\u001b[0;31m:\u001b[0m f-string: expecting '}'\n"
          ]
        }
      ]
    },
    {
      "cell_type": "markdown",
      "source": [
        "##Advanced printing\n",
        "\n",
        "(การแสดงผลแบบ Advance)\n"
      ],
      "metadata": {
        "id": "MEflkU7kZRHh"
      }
    },
    {
      "cell_type": "markdown",
      "source": [
        "ในภาษา python ฟังก์ชัน `````function()````` จะมี ``(`` ``)``"
      ],
      "metadata": {
        "id": "6aZnP-RF8ZrT"
      }
    },
    {
      "cell_type": "markdown",
      "source": [
        "## Print"
      ],
      "metadata": {
        "id": "5tvoD0Gi19oZ"
      }
    },
    {
      "cell_type": "markdown",
      "source": [
        "\n",
        "```\n",
        "print(object(s), sep=separator, end=end, file=file, flush=flush)\n",
        "```\n",
        "\n"
      ],
      "metadata": {
        "id": "uQcYWHgS9Ob9"
      }
    },
    {
      "cell_type": "markdown",
      "source": [
        "### object(s)\n",
        "\n",
        "(s) สามารถ input object ได้มากกว่า 1 ตัว"
      ],
      "metadata": {
        "id": "IBUxSqwfygLv"
      }
    },
    {
      "cell_type": "code",
      "source": [
        "print(text1,text2,text3)"
      ],
      "metadata": {
        "colab": {
          "base_uri": "https://localhost:8080/"
        },
        "id": "6a_NLUdlyIjd",
        "outputId": "4ae416cc-a382-456a-ee8d-12c8bfb3922d"
      },
      "execution_count": null,
      "outputs": [
        {
          "output_type": "stream",
          "name": "stdout",
          "text": [
            "Stat ม.ขอนแก่น 1234\n"
          ]
        }
      ]
    },
    {
      "cell_type": "markdown",
      "source": [
        "### separator (sep) คือการแบ่งข้อมูลด้วยคำสั่ง ทั้งช่องว่างและ /\n",
        "\n",
        "\n",
        "```\n",
        "Default is ' '\n",
        "```\n",
        "for example\n"
      ],
      "metadata": {
        "id": "VPmUaNBN-oDq"
      }
    },
    {
      "cell_type": "code",
      "source": [
        "print(text1,text2,text3) #ถ้าไม่กำหนด sep จะใช้ ' ' แบ่ง"
      ],
      "metadata": {
        "colab": {
          "base_uri": "https://localhost:8080/"
        },
        "id": "58d2OykL9uLV",
        "outputId": "fc819ff1-01af-48f3-ba69-301a3e946acc"
      },
      "execution_count": null,
      "outputs": [
        {
          "output_type": "stream",
          "name": "stdout",
          "text": [
            "Stat ม.ขอนแก่น 1234\n"
          ]
        }
      ]
    },
    {
      "cell_type": "code",
      "source": [
        "print(text1,text2,text3, sep ='+') #กำหนด sep เป็น +"
      ],
      "metadata": {
        "colab": {
          "base_uri": "https://localhost:8080/"
        },
        "id": "JKDXwhUu98g8",
        "outputId": "6bf4c1ab-c676-4d45-bfa7-76241e20ee0e"
      },
      "execution_count": null,
      "outputs": [
        {
          "output_type": "stream",
          "name": "stdout",
          "text": [
            "Stat+ม.ขอนแก่น+1234\n"
          ]
        }
      ]
    },
    {
      "cell_type": "markdown",
      "source": [
        "### end (end) ไว้สำหรับการขึ้นบรรทัดใหม่หรือการเพิ่มตัวอักษร\n",
        "\n",
        "\n",
        "\n",
        "```\n",
        "Default is '\\n'\n",
        "```\n",
        "for example\n",
        "\n",
        "\n"
      ],
      "metadata": {
        "id": "SjbKTyhO-sXc"
      }
    },
    {
      "cell_type": "code",
      "source": [
        "print('stat')\n",
        "print('KKU')"
      ],
      "metadata": {
        "colab": {
          "base_uri": "https://localhost:8080/"
        },
        "id": "kBaAmiq_-Dtl",
        "outputId": "bd126872-7f74-4147-9cc7-aa29065b6c82"
      },
      "execution_count": null,
      "outputs": [
        {
          "output_type": "stream",
          "name": "stdout",
          "text": [
            "stat\n",
            "KKU\n"
          ]
        }
      ]
    },
    {
      "cell_type": "code",
      "source": [
        "print('stat',end='+-+')\n",
        "print('KKU')"
      ],
      "metadata": {
        "colab": {
          "base_uri": "https://localhost:8080/"
        },
        "id": "PUhgDUJC-mGu",
        "outputId": "7a9383bc-8dc4-4ce7-efcc-a6380d03c258"
      },
      "execution_count": null,
      "outputs": [
        {
          "output_type": "stream",
          "name": "stdout",
          "text": [
            "stat+-+KKU\n"
          ]
        }
      ]
    },
    {
      "cell_type": "markdown",
      "source": [
        "# Variable (ตัวแปร)\n",
        "\n",
        "ใช้สำหรับการเก็บข้อมูลไว้ในตัวแปรนั้นๆไว้"
      ],
      "metadata": {
        "id": "pnuKktZj_aYP"
      }
    },
    {
      "cell_type": "markdown",
      "source": [
        "### ข้อกำหนดในการตั้งชื่อตัวแปร\n",
        "1. ตั้งให้สื่อความหมาย (ข้อแนะนำ)\n",
        "2. ตั้งให้เป็นภาษาอังกฤษ\n",
        "3. ใช้ตัวเลขผสมกับตัวหนังสือได้ แต่ห้ามขึ้นต้นด้วยตัวเลข\n",
        "4. ห้ามมีเว้นวรรคในชื่อตัวแปร\n",
        "5. ตัวใหญ่ ตัวเล็กค่าไม่เท่ากัน\n",
        "\n",
        "\n",
        "## variable naming rules\n",
        "1. Try to use meaningful word\n",
        "2. Do it in English\n",
        "3. You can use number in variable name the name connot atart with number\n",
        "4. there should be no space in the name\n",
        "5. variable name is case-sensitive (Abc is not equal to ABC)"
      ],
      "metadata": {
        "id": "Y-WakksGY-qa"
      }
    },
    {
      "cell_type": "code",
      "source": [
        "a = 5 #int\n",
        "print(a)"
      ],
      "metadata": {
        "colab": {
          "base_uri": "https://localhost:8080/"
        },
        "id": "sG2g9sdjY43v",
        "outputId": "752935bb-d7fe-4a85-89e6-60b828503209"
      },
      "execution_count": null,
      "outputs": [
        {
          "output_type": "stream",
          "name": "stdout",
          "text": [
            "5\n"
          ]
        }
      ]
    },
    {
      "cell_type": "code",
      "source": [
        "b = 5.7 #float\n",
        "print(b)"
      ],
      "metadata": {
        "colab": {
          "base_uri": "https://localhost:8080/"
        },
        "id": "4USxTM0QY6fq",
        "outputId": "21e5237e-5be3-40f4-f75f-51cad16cec3b"
      },
      "execution_count": null,
      "outputs": [
        {
          "output_type": "stream",
          "name": "stdout",
          "text": [
            "5.7\n"
          ]
        }
      ]
    },
    {
      "cell_type": "code",
      "source": [
        "c = a-b\n",
        "print(c)"
      ],
      "metadata": {
        "colab": {
          "base_uri": "https://localhost:8080/"
        },
        "id": "DNM5bnjtY7yJ",
        "outputId": "3a342624-4df0-43df-89a4-69bf52fe9d02"
      },
      "execution_count": null,
      "outputs": [
        {
          "output_type": "stream",
          "name": "stdout",
          "text": [
            "-0.7000000000000002\n"
          ]
        }
      ]
    },
    {
      "cell_type": "markdown",
      "source": [
        "# List() โครงสร้างข้อมูล"
      ],
      "metadata": {
        "id": "8OONbOe5gqm3"
      }
    },
    {
      "cell_type": "code",
      "source": [
        "list_a = [1,2,3]"
      ],
      "metadata": {
        "id": "hE_MrofBg3vQ"
      },
      "execution_count": null,
      "outputs": []
    },
    {
      "cell_type": "code",
      "source": [
        "list_a"
      ],
      "metadata": {
        "colab": {
          "base_uri": "https://localhost:8080/"
        },
        "id": "gzpnZbe_AoEE",
        "outputId": "276afdb5-04ec-4d80-ffdb-88860dccfbd6"
      },
      "execution_count": null,
      "outputs": [
        {
          "output_type": "execute_result",
          "data": {
            "text/plain": [
              "[1, 2, 3]"
            ]
          },
          "metadata": {},
          "execution_count": 82
        }
      ]
    },
    {
      "cell_type": "code",
      "source": [
        "list_b = list()"
      ],
      "metadata": {
        "id": "7jJcmv85hb88"
      },
      "execution_count": null,
      "outputs": []
    },
    {
      "cell_type": "code",
      "source": [
        "list_b"
      ],
      "metadata": {
        "colab": {
          "base_uri": "https://localhost:8080/"
        },
        "id": "Qh8LZ9KfhggE",
        "outputId": "536e68de-31bb-4360-ebea-1a7c8aad6f00"
      },
      "execution_count": null,
      "outputs": [
        {
          "output_type": "execute_result",
          "data": {
            "text/plain": [
              "[]"
            ]
          },
          "metadata": {},
          "execution_count": 94
        }
      ]
    },
    {
      "cell_type": "code",
      "source": [
        "list_b.append(1) #append คือการเพิ่มข้อมูลใน list\n",
        "print(list_b)\n",
        "list_b.append(2)\n",
        "print(list_b)"
      ],
      "metadata": {
        "colab": {
          "base_uri": "https://localhost:8080/"
        },
        "id": "ULMnRasdhx-5",
        "outputId": "c1fc1dc2-9f04-4a23-c193-1aec6c3f675b"
      },
      "execution_count": null,
      "outputs": [
        {
          "output_type": "stream",
          "name": "stdout",
          "text": [
            "[1]\n",
            "[1, 2]\n"
          ]
        }
      ]
    },
    {
      "cell_type": "code",
      "source": [
        "list_b.append('f')\n",
        "list_b.append([12,6,'a'])\n",
        "list_b"
      ],
      "metadata": {
        "colab": {
          "base_uri": "https://localhost:8080/"
        },
        "id": "2Iv-A55wiL7x",
        "outputId": "a6b0d4e0-e832-4170-d605-5ffb56fbbea8"
      },
      "execution_count": null,
      "outputs": [
        {
          "output_type": "execute_result",
          "data": {
            "text/plain": [
              "[1, 2, 'f', [12, 6, 'a']]"
            ]
          },
          "metadata": {},
          "execution_count": 96
        }
      ]
    },
    {
      "cell_type": "code",
      "source": [
        "list_b[3] #index"
      ],
      "metadata": {
        "colab": {
          "base_uri": "https://localhost:8080/"
        },
        "id": "leSTP3jlinfG",
        "outputId": "9f31aa38-e873-4df8-ee47-4cc4e9aeb1e1"
      },
      "execution_count": null,
      "outputs": [
        {
          "output_type": "execute_result",
          "data": {
            "text/plain": [
              "[12, 6, 'a']"
            ]
          },
          "metadata": {},
          "execution_count": 97
        }
      ]
    },
    {
      "cell_type": "markdown",
      "source": [
        "###list slicing:"
      ],
      "metadata": {
        "id": "zXwbYRnzDQtU"
      }
    },
    {
      "cell_type": "code",
      "source": [
        "list_x = [1,2,3,4,5,'ax','by','cz']\n",
        "list_x"
      ],
      "metadata": {
        "colab": {
          "base_uri": "https://localhost:8080/"
        },
        "id": "l0S4sIMvDVss",
        "outputId": "0f6c2627-c589-4c68-d309-a8e36e84e8d0"
      },
      "execution_count": null,
      "outputs": [
        {
          "output_type": "execute_result",
          "data": {
            "text/plain": [
              "[1, 2, 3, 4, 5, 'ax', 'by', 'cz']"
            ]
          },
          "metadata": {},
          "execution_count": 101
        }
      ]
    },
    {
      "cell_type": "code",
      "source": [
        "list_x[4:8]"
      ],
      "metadata": {
        "colab": {
          "base_uri": "https://localhost:8080/"
        },
        "id": "RK22UNFzDkaF",
        "outputId": "48fd6f13-517a-4e50-e3fd-74abcf4e0dd0"
      },
      "execution_count": null,
      "outputs": [
        {
          "output_type": "execute_result",
          "data": {
            "text/plain": [
              "[5, 'ax', 'by', 'cz']"
            ]
          },
          "metadata": {},
          "execution_count": 105
        }
      ]
    },
    {
      "cell_type": "code",
      "source": [
        "list_x[4:7]"
      ],
      "metadata": {
        "colab": {
          "base_uri": "https://localhost:8080/"
        },
        "id": "Qp_Sz43hD28V",
        "outputId": "6089a73d-b277-48d9-bb6d-ccb0beac5169"
      },
      "execution_count": null,
      "outputs": [
        {
          "output_type": "execute_result",
          "data": {
            "text/plain": [
              "[5, 'ax', 'by']"
            ]
          },
          "metadata": {},
          "execution_count": 106
        }
      ]
    },
    {
      "cell_type": "code",
      "source": [
        "list_x[4:7:2]"
      ],
      "metadata": {
        "colab": {
          "base_uri": "https://localhost:8080/"
        },
        "id": "nRS_aim5EPpS",
        "outputId": "83175f91-b97b-4519-9900-5191fa1ebee9"
      },
      "execution_count": null,
      "outputs": [
        {
          "output_type": "execute_result",
          "data": {
            "text/plain": [
              "[5, 'by']"
            ]
          },
          "metadata": {},
          "execution_count": 109
        }
      ]
    },
    {
      "cell_type": "markdown",
      "source": [
        "####```integer * char```mean multiple copies of the char หรือสามารถคูณตัวอักษรเพื่อแสดงผลเท่าผลคูณได้"
      ],
      "metadata": {
        "id": "Oni4-2pSAaFj"
      }
    },
    {
      "cell_type": "code",
      "source": [
        "[1,2,3]+[4,5,6]"
      ],
      "metadata": {
        "colab": {
          "base_uri": "https://localhost:8080/"
        },
        "id": "35kpYIjQwYdD",
        "outputId": "80ea82a8-bd9b-4cbf-fc9b-7e0730aa0125"
      },
      "execution_count": null,
      "outputs": [
        {
          "output_type": "execute_result",
          "data": {
            "text/plain": [
              "[1, 2, 3, 4, 5, 6]"
            ]
          },
          "metadata": {},
          "execution_count": 1
        }
      ]
    },
    {
      "cell_type": "code",
      "source": [
        "print(5*[1,2,3])"
      ],
      "metadata": {
        "colab": {
          "base_uri": "https://localhost:8080/"
        },
        "id": "3lnB0SYRAFtJ",
        "outputId": "ab48ae15-7bc7-4142-c17c-43c6b2c1b440"
      },
      "execution_count": null,
      "outputs": [
        {
          "output_type": "stream",
          "name": "stdout",
          "text": [
            "[1, 2, 3, 1, 2, 3, 1, 2, 3, 1, 2, 3, 1, 2, 3]\n"
          ]
        }
      ]
    },
    {
      "cell_type": "code",
      "source": [
        "print(100*'Ha')"
      ],
      "metadata": {
        "colab": {
          "base_uri": "https://localhost:8080/"
        },
        "id": "YJ9QmnLnBqba",
        "outputId": "b1434d2c-5010-4e8f-f981-d6d530944872"
      },
      "execution_count": null,
      "outputs": [
        {
          "output_type": "stream",
          "name": "stdout",
          "text": [
            "HaHaHaHaHaHaHaHaHaHaHaHaHaHaHaHaHaHaHaHaHaHaHaHaHaHaHaHaHaHaHaHaHaHaHaHaHaHaHaHaHaHaHaHaHaHaHaHaHaHaHaHaHaHaHaHaHaHaHaHaHaHaHaHaHaHaHaHaHaHaHaHaHaHaHaHaHaHaHaHaHaHaHaHaHaHaHaHaHaHaHaHaHaHaHaHaHaHaHaHa\n"
          ]
        }
      ]
    },
    {
      "cell_type": "markdown",
      "source": [
        "##Dictionary ```{ }```"
      ],
      "metadata": {
        "id": "VdDLQs17wO4w"
      }
    },
    {
      "cell_type": "code",
      "source": [
        "dict_a ={'ant':27,'bee':32,'cat':79}"
      ],
      "metadata": {
        "id": "kIUBJzKYwTpT"
      },
      "execution_count": null,
      "outputs": []
    },
    {
      "cell_type": "code",
      "source": [
        "dict_a['bee']"
      ],
      "metadata": {
        "colab": {
          "base_uri": "https://localhost:8080/"
        },
        "id": "vFz1qAMtw7f8",
        "outputId": "043a294c-d983-4878-f2b8-697a49642ca1"
      },
      "execution_count": null,
      "outputs": [
        {
          "output_type": "execute_result",
          "data": {
            "text/plain": [
              "32"
            ]
          },
          "metadata": {},
          "execution_count": 8
        }
      ]
    },
    {
      "cell_type": "code",
      "source": [
        "dict_a['dog']=70"
      ],
      "metadata": {
        "id": "2sN3NJqvy7zk"
      },
      "execution_count": null,
      "outputs": []
    },
    {
      "cell_type": "code",
      "source": [
        "dict_a"
      ],
      "metadata": {
        "colab": {
          "base_uri": "https://localhost:8080/"
        },
        "id": "z3btAI-TzBuk",
        "outputId": "1d9f4501-974f-456f-eb65-45c4ab1d7dbe"
      },
      "execution_count": null,
      "outputs": [
        {
          "output_type": "execute_result",
          "data": {
            "text/plain": [
              "{'ant': 27, 'bee': 32, 'cat': 79, 'dog': 70}"
            ]
          },
          "metadata": {},
          "execution_count": 11
        }
      ]
    },
    {
      "cell_type": "code",
      "source": [
        "dict_a['ant']=13"
      ],
      "metadata": {
        "id": "pkrYv0SNzHOH"
      },
      "execution_count": null,
      "outputs": []
    },
    {
      "cell_type": "code",
      "source": [
        "dict_a"
      ],
      "metadata": {
        "colab": {
          "base_uri": "https://localhost:8080/"
        },
        "id": "Gji8OEA2zRdu",
        "outputId": "37579243-f705-4a9d-a44f-1dfbaea35a27"
      },
      "execution_count": null,
      "outputs": [
        {
          "output_type": "execute_result",
          "data": {
            "text/plain": [
              "{'ant': 13, 'bee': 32, 'cat': 79, 'dog': 70}"
            ]
          },
          "metadata": {},
          "execution_count": 13
        }
      ]
    },
    {
      "cell_type": "markdown",
      "source": [
        "### เวลาทำงานจริง"
      ],
      "metadata": {
        "id": "cophcz8iyukd"
      }
    },
    {
      "cell_type": "code",
      "source": [
        "dict_b={}"
      ],
      "metadata": {
        "id": "23gyimY5ypi4"
      },
      "execution_count": null,
      "outputs": []
    },
    {
      "cell_type": "code",
      "source": [
        "if 'ant' not in dict_a:\n",
        "  dict_a['ant'] = 27\n"
      ],
      "metadata": {
        "id": "HtBQaFtly5FT"
      },
      "execution_count": null,
      "outputs": []
    },
    {
      "cell_type": "code",
      "source": [
        "dict_a"
      ],
      "metadata": {
        "colab": {
          "base_uri": "https://localhost:8080/"
        },
        "id": "TnC_2lpV0Dlc",
        "outputId": "68097631-c126-4274-8c3d-f761180c6406"
      },
      "execution_count": null,
      "outputs": [
        {
          "output_type": "execute_result",
          "data": {
            "text/plain": [
              "{'ant': 13, 'bee': 32, 'cat': 79, 'dog': 70}"
            ]
          },
          "metadata": {},
          "execution_count": 15
        }
      ]
    },
    {
      "cell_type": "markdown",
      "source": [
        "# For วนซ้ำ"
      ],
      "metadata": {
        "id": "WzKNF7tQgxxC"
      }
    },
    {
      "cell_type": "markdown",
      "source": [
        "```\n",
        "for สมาชิกแต่ละตัว in list:\n",
        "    ทำอะไรซักอย่าง1\n",
        "    ทำอะไรซักอย่าง2\n",
        "```"
      ],
      "metadata": {
        "id": "pGLXJ4F6jPyZ"
      }
    },
    {
      "cell_type": "code",
      "source": [
        "for x in ['ข้าวผัด','ก๋วยเตี๋ยว','ส้มตำ','พิชซ่า'] :\n",
        "  text = f'ฉันชอบกิน{x}'\n",
        "  print(text)"
      ],
      "metadata": {
        "colab": {
          "base_uri": "https://localhost:8080/"
        },
        "id": "nwjk7Gxy2dTs",
        "outputId": "9ae13270-73f9-4e10-df3d-02f6d434192f"
      },
      "execution_count": null,
      "outputs": [
        {
          "output_type": "stream",
          "name": "stdout",
          "text": [
            "ฉันชอบกินข้าวผัด\n",
            "ฉันชอบกินก๋วยเตี๋ยว\n",
            "ฉันชอบกินส้มตำ\n",
            "ฉันชอบกินพิชซ่า\n"
          ]
        }
      ]
    },
    {
      "cell_type": "markdown",
      "source": [
        "##Quiz3 วนโดย print index และ ค่า"
      ],
      "metadata": {
        "id": "RnCDo_GQ3XvF"
      }
    },
    {
      "cell_type": "code",
      "source": [
        "i=1\n",
        "for x in ['ข้าวผัด','ก๋วยเตี๋ยว','ส้มตำ','พิชซ่า']:\n",
        "  text = f'ฉันชอบกิน{i}.{x}'\n",
        "  print(text)\n",
        "  i +=1"
      ],
      "metadata": {
        "colab": {
          "base_uri": "https://localhost:8080/"
        },
        "id": "cXuFO7p592_g",
        "outputId": "6a3abdc2-ec41-4bb9-b7e3-517d2d808eba"
      },
      "execution_count": null,
      "outputs": [
        {
          "output_type": "stream",
          "name": "stdout",
          "text": [
            "ฉันชอบกิน1.ข้าวผัด\n",
            "ฉันชอบกิน2.ก๋วยเตี๋ยว\n",
            "ฉันชอบกิน3.ส้มตำ\n",
            "ฉันชอบกิน4.พิชซ่า\n"
          ]
        }
      ]
    },
    {
      "cell_type": "code",
      "source": [
        "for i,x in enumerate(['ข้าวผัด','ก๋วยเตี๋ยว','ส้มตำ','พิชซ่า']) :\n",
        "  text = f'ฉันชอบกิน{i+1}.{x}'\n",
        "  print(text)"
      ],
      "metadata": {
        "colab": {
          "base_uri": "https://localhost:8080/"
        },
        "id": "KeWBRsV652eM",
        "outputId": "ee031f51-b5fa-48cf-d540-0f37135e74c5"
      },
      "execution_count": null,
      "outputs": [
        {
          "output_type": "stream",
          "name": "stdout",
          "text": [
            "ฉันชอบกิน1.ข้าวผัด\n",
            "ฉันชอบกิน2.ก๋วยเตี๋ยว\n",
            "ฉันชอบกิน3.ส้มตำ\n",
            "ฉันชอบกิน4.พิชซ่า\n"
          ]
        }
      ]
    },
    {
      "cell_type": "markdown",
      "source": [
        "##Loop in loop"
      ],
      "metadata": {
        "id": "46qgQ3_Q-9SI"
      }
    },
    {
      "cell_type": "markdown",
      "source": [
        "print สูตรคูณแม่ 2-5"
      ],
      "metadata": {
        "id": "8PbUOnqQ_Fs3"
      }
    },
    {
      "cell_type": "code",
      "source": [
        "for x in range(2,6):\n",
        "  print(f'สูตรคูณแม่{x}')\n",
        "  for y in range(1,13):\n",
        "    print(f'{x}*{y}={x*y}')\n"
      ],
      "metadata": {
        "colab": {
          "base_uri": "https://localhost:8080/"
        },
        "id": "dlRH73wH_FI9",
        "outputId": "2cb03bf1-3d7c-4c5d-c159-92188c131bf4"
      },
      "execution_count": null,
      "outputs": [
        {
          "output_type": "stream",
          "name": "stdout",
          "text": [
            "สูตรคูณแม่2\n",
            "2*1=2\n",
            "2*2=4\n",
            "2*3=6\n",
            "2*4=8\n",
            "2*5=10\n",
            "2*6=12\n",
            "2*7=14\n",
            "2*8=16\n",
            "2*9=18\n",
            "2*10=20\n",
            "2*11=22\n",
            "2*12=24\n",
            "สูตรคูณแม่3\n",
            "3*1=3\n",
            "3*2=6\n",
            "3*3=9\n",
            "3*4=12\n",
            "3*5=15\n",
            "3*6=18\n",
            "3*7=21\n",
            "3*8=24\n",
            "3*9=27\n",
            "3*10=30\n",
            "3*11=33\n",
            "3*12=36\n",
            "สูตรคูณแม่4\n",
            "4*1=4\n",
            "4*2=8\n",
            "4*3=12\n",
            "4*4=16\n",
            "4*5=20\n",
            "4*6=24\n",
            "4*7=28\n",
            "4*8=32\n",
            "4*9=36\n",
            "4*10=40\n",
            "4*11=44\n",
            "4*12=48\n",
            "สูตรคูณแม่5\n",
            "5*1=5\n",
            "5*2=10\n",
            "5*3=15\n",
            "5*4=20\n",
            "5*5=25\n",
            "5*6=30\n",
            "5*7=35\n",
            "5*8=40\n",
            "5*9=45\n",
            "5*10=50\n",
            "5*11=55\n",
            "5*12=60\n"
          ]
        }
      ]
    },
    {
      "cell_type": "markdown",
      "source": [
        "##Quiz 4\n",
        "วนลูป print output ดังนี้\n",
        "\n",
        "0\n",
        "\n",
        "1 1\n",
        "\n",
        "2 3 5\n",
        "\n",
        "8 13 21 34\n"
      ],
      "metadata": {
        "id": "YtBfGa62ARKW"
      }
    },
    {
      "cell_type": "code",
      "source": [
        "a, b = 0, 1\n",
        "for i in range(4):\n",
        "  line = []\n",
        "  for j in range(i + 1):\n",
        "    line.append(str(a))\n",
        "    a, b = b, a + b\n",
        "  print(\" \".join(line))"
      ],
      "metadata": {
        "colab": {
          "base_uri": "https://localhost:8080/"
        },
        "id": "Z08j4POQEbOt",
        "outputId": "45d8e9ee-03d5-4ec5-af77-f2bc35322c3b"
      },
      "execution_count": null,
      "outputs": [
        {
          "output_type": "stream",
          "name": "stdout",
          "text": [
            "0\n",
            "1 1\n",
            "2 3 5\n",
            "8 13 21 34\n"
          ]
        }
      ]
    },
    {
      "cell_type": "markdown",
      "source": [
        "#Condition"
      ],
      "metadata": {
        "id": "8J9rGusi015u"
      }
    },
    {
      "cell_type": "markdown",
      "source": [
        "``````\n",
        "if ทดสอบเงื่อนไข:\n",
        "   ทำอะไรซักอย่าง1\n",
        "   ทำอะไรซักอย่าง2\n",
        "elif ทดสอบเงื่อนไข2:\n",
        "   ทำอะไรซักอย่าง1\n",
        "   ทำอะไรซักอย่าง2\n",
        "else:\n",
        "   ทำอะไรซักอย่าง1\n",
        "   ทำอะไรซักอย่าง2\n",
        "\n",
        "```````"
      ],
      "metadata": {
        "id": "0jgh4wl_FLIq"
      }
    },
    {
      "cell_type": "markdown",
      "source": [
        "##operation ที่ให้ output เป็น boolean (True,false)\n",
        " ````>,<,!=,>=,<=,in,|,&&, not````"
      ],
      "metadata": {
        "id": "14IDUBDYFzu2"
      }
    },
    {
      "cell_type": "code",
      "source": [
        "b1=2>5\n",
        "print(b1)"
      ],
      "metadata": {
        "colab": {
          "base_uri": "https://localhost:8080/"
        },
        "id": "n2XOeM59E48J",
        "outputId": "90368e3b-a469-4acd-d085-a41b1ab19836"
      },
      "execution_count": null,
      "outputs": [
        {
          "output_type": "stream",
          "name": "stdout",
          "text": [
            "False\n"
          ]
        }
      ]
    },
    {
      "cell_type": "code",
      "source": [
        "b2= 3 in [1,3,7]\n",
        "print(b2)"
      ],
      "metadata": {
        "colab": {
          "base_uri": "https://localhost:8080/"
        },
        "id": "nwyGEXVmGhBf",
        "outputId": "b43122be-c842-4736-b005-5066ff6d391f"
      },
      "execution_count": null,
      "outputs": [
        {
          "output_type": "stream",
          "name": "stdout",
          "text": [
            "True\n"
          ]
        }
      ]
    },
    {
      "cell_type": "code",
      "source": [
        "b1|b2"
      ],
      "metadata": {
        "colab": {
          "base_uri": "https://localhost:8080/"
        },
        "id": "foOw0kf7Gp0n",
        "outputId": "1646f4a1-2801-4183-9d6e-39cea465cb99"
      },
      "execution_count": null,
      "outputs": [
        {
          "output_type": "execute_result",
          "data": {
            "text/plain": [
              "True"
            ]
          },
          "metadata": {},
          "execution_count": 47
        }
      ]
    },
    {
      "cell_type": "code",
      "source": [
        "b1&b2"
      ],
      "metadata": {
        "colab": {
          "base_uri": "https://localhost:8080/"
        },
        "id": "wlGwLhHgGwsO",
        "outputId": "694c32bb-6685-48d8-f177-8d0f926d7b62"
      },
      "execution_count": null,
      "outputs": [
        {
          "output_type": "execute_result",
          "data": {
            "text/plain": [
              "False"
            ]
          },
          "metadata": {},
          "execution_count": 48
        }
      ]
    },
    {
      "cell_type": "markdown",
      "source": [
        "check if all members are even number"
      ],
      "metadata": {
        "id": "qbfvblQMGy5o"
      }
    },
    {
      "cell_type": "code",
      "source": [
        "a=[2,4,10,7,24]"
      ],
      "metadata": {
        "id": "Qaopv55qG9sl"
      },
      "execution_count": null,
      "outputs": []
    },
    {
      "cell_type": "code",
      "source": [
        "for x in a:\n",
        "  if x%2 != 0:\n",
        "    print('not all members are even number')\n",
        "    #break"
      ],
      "metadata": {
        "colab": {
          "base_uri": "https://localhost:8080/"
        },
        "id": "KeXObfPMHCHv",
        "outputId": "b5a5a8b9-64d3-48d3-8edc-531a798f25a4"
      },
      "execution_count": null,
      "outputs": [
        {
          "output_type": "stream",
          "name": "stdout",
          "text": [
            "not all members are even number\n"
          ]
        }
      ]
    },
    {
      "cell_type": "markdown",
      "source": [
        "#Function"
      ],
      "metadata": {
        "id": "rSjlzg8Y0z4V"
      }
    },
    {
      "cell_type": "markdown",
      "source": [
        "```python\n",
        "    def function_name(_Input_) :\n",
        "        do_something with _Input_ to get _Output_\n",
        "        return _Output_\n",
        "```"
      ],
      "metadata": {
        "id": "KtpVM_Utj3Gt"
      }
    },
    {
      "cell_type": "markdown",
      "source": [
        "function มีส่วนสำคัญทั้งหมด 4 ส่วน\n",
        "\n",
        "1.   บอก python ว่าเราจะเขียนฟังก์ชั่น ชื่ออะไร  ```def function_name():``` (ขาดไม่ได้)\n",
        "2.   กำหนดตัวแปรที่จะเป็น input  ```_Input_``` (ขาดได้)\n",
        "3.   ส่วนประมวลผล ```do_something with _Input_ to get _Output_``` (ขาดไม่ได้)\n",
        "4.   ส่วน output ```return _Output_```(ขาดได้)"
      ],
      "metadata": {
        "id": "KE2uDSSVtqcA"
      }
    },
    {
      "cell_type": "code",
      "source": [
        "def print_myname():\n",
        "  print('Kritsadakorn')\n",
        "  print('Phuyodploy')"
      ],
      "metadata": {
        "id": "xBjU8qZwj2Wd"
      },
      "execution_count": 4,
      "outputs": []
    },
    {
      "cell_type": "code",
      "source": [
        "print_myname()"
      ],
      "metadata": {
        "colab": {
          "base_uri": "https://localhost:8080/"
        },
        "id": "4GkGUE-Lj9kG",
        "outputId": "24d45c5d-a613-4376-cfc5-df5ff4f68a31"
      },
      "execution_count": 5,
      "outputs": [
        {
          "output_type": "stream",
          "name": "stdout",
          "text": [
            "Kritsadakorn\n",
            "Phuyodploy\n"
          ]
        }
      ]
    },
    {
      "cell_type": "code",
      "source": [
        "b = print_myname()"
      ],
      "metadata": {
        "colab": {
          "base_uri": "https://localhost:8080/"
        },
        "id": "AXnTq52llsIt",
        "outputId": "536c9421-5c9c-47a8-cc63-221e4defa9d6"
      },
      "execution_count": 10,
      "outputs": [
        {
          "output_type": "stream",
          "name": "stdout",
          "text": [
            "Kritsadakorn\n",
            "Phuyodploy\n"
          ]
        }
      ]
    },
    {
      "cell_type": "code",
      "source": [
        "b"
      ],
      "metadata": {
        "id": "EP1khV9Kl2K-"
      },
      "execution_count": 11,
      "outputs": []
    },
    {
      "cell_type": "code",
      "source": [
        "def print_name(name) :\n",
        "  st = f'ชื่อ {name}@Statistics'\n",
        "  return st"
      ],
      "metadata": {
        "id": "C9s0rMiZkZ41"
      },
      "execution_count": 6,
      "outputs": []
    },
    {
      "cell_type": "code",
      "source": [
        "a = print_name('Kritsadakorn')"
      ],
      "metadata": {
        "id": "Uwcy1XBlkzgh"
      },
      "execution_count": 7,
      "outputs": []
    },
    {
      "cell_type": "code",
      "source": [
        "print(a)"
      ],
      "metadata": {
        "colab": {
          "base_uri": "https://localhost:8080/"
        },
        "id": "hNEuW0wek6gP",
        "outputId": "b3111ad7-6565-43b8-82dd-b4ab25851d32"
      },
      "execution_count": 8,
      "outputs": [
        {
          "output_type": "stream",
          "name": "stdout",
          "text": [
            "ชื่อ Kritsadakorn@Statistics\n"
          ]
        }
      ]
    },
    {
      "cell_type": "code",
      "source": [
        "def print_fullname(name,surname,ID) :\n",
        "  st = f'ชื่อ {name} นามสกุล {surname} รหัส {ID}'\n",
        "  return st"
      ],
      "metadata": {
        "id": "l4vqOlJUmIiO"
      },
      "execution_count": 14,
      "outputs": []
    },
    {
      "cell_type": "code",
      "source": [
        "print_fullname('Kritsadakorn','Phuyodploy','685020050-1')"
      ],
      "metadata": {
        "colab": {
          "base_uri": "https://localhost:8080/",
          "height": 35
        },
        "id": "QZUEyG6umbWI",
        "outputId": "97ae4d67-7460-4151-e2ea-db13ece1246f"
      },
      "execution_count": 15,
      "outputs": [
        {
          "output_type": "execute_result",
          "data": {
            "text/plain": [
              "'ชื่อ Kritsadakorn นามสกุล Phuyodploy รหัส 685020050-1'"
            ],
            "application/vnd.google.colaboratory.intrinsic+json": {
              "type": "string"
            }
          },
          "metadata": {},
          "execution_count": 15
        }
      ]
    },
    {
      "cell_type": "markdown",
      "source": [
        "Input มีแบบจำเป็นต้องใส่ กับ ไม่จำเป็นต้องใส่"
      ],
      "metadata": {
        "id": "PROFiJ-Um3cm"
      }
    },
    {
      "cell_type": "code",
      "source": [
        "def print_fullname2(name,ID,department='Statistics') :\n",
        "  st = f'ชื่อ {name} สาขาวิชา {department} รหัส {ID}'\n",
        "  return st"
      ],
      "metadata": {
        "id": "0bP9VMxVm38f"
      },
      "execution_count": 17,
      "outputs": []
    },
    {
      "cell_type": "code",
      "source": [
        "print_fullname2('Kritsadakorn','685020050-1')"
      ],
      "metadata": {
        "colab": {
          "base_uri": "https://localhost:8080/",
          "height": 35
        },
        "id": "LZsNgilTno7n",
        "outputId": "9a174c84-5fe4-400f-d6ef-046ed700eb78"
      },
      "execution_count": 18,
      "outputs": [
        {
          "output_type": "execute_result",
          "data": {
            "text/plain": [
              "'ชื่อ Kritsadakorn สาขาวิชา Statistics รหัส 685020050-1'"
            ],
            "application/vnd.google.colaboratory.intrinsic+json": {
              "type": "string"
            }
          },
          "metadata": {},
          "execution_count": 18
        }
      ]
    },
    {
      "cell_type": "code",
      "source": [
        "print_fullname2('Kritsadakorn','685020050-1','Mathematics')"
      ],
      "metadata": {
        "colab": {
          "base_uri": "https://localhost:8080/",
          "height": 35
        },
        "id": "l8IGTVCjntAY",
        "outputId": "3818d52f-8918-48a4-d994-542669d73f06"
      },
      "execution_count": 19,
      "outputs": [
        {
          "output_type": "execute_result",
          "data": {
            "text/plain": [
              "'ชื่อ Kritsadakorn สาขาวิชา Mathematics รหัส 685020050-1'"
            ],
            "application/vnd.google.colaboratory.intrinsic+json": {
              "type": "string"
            }
          },
          "metadata": {},
          "execution_count": 19
        }
      ]
    },
    {
      "cell_type": "code",
      "source": [
        "print_fullname2(name='Kritsadakorn',department='Mathematics',ID='685020050-1')"
      ],
      "metadata": {
        "colab": {
          "base_uri": "https://localhost:8080/",
          "height": 35
        },
        "id": "tBRbHg1rn4Ie",
        "outputId": "6a55583e-736b-4730-ab9e-f5cc4a41ab4e"
      },
      "execution_count": 20,
      "outputs": [
        {
          "output_type": "execute_result",
          "data": {
            "text/plain": [
              "'ชื่อ Kritsadakorn สาขาวิชา Mathematics รหัส 685020050-1'"
            ],
            "application/vnd.google.colaboratory.intrinsic+json": {
              "type": "string"
            }
          },
          "metadata": {},
          "execution_count": 20
        }
      ]
    },
    {
      "cell_type": "markdown",
      "source": [
        "##Quiz 5 สร้าง function สูตรคูณ โดย input แม่สูตรคูณ และจำนวนตัวคูณ(default=12)"
      ],
      "metadata": {
        "id": "ObHSV1z3oN2e"
      }
    },
    {
      "cell_type": "code",
      "source": [
        "def multi(x,n=12):\n",
        "  for y in range(n):\n",
        "    print(f'{x}*{y}={x*y}')"
      ],
      "metadata": {
        "id": "BpMe0nZ0oVyu"
      },
      "execution_count": 26,
      "outputs": []
    },
    {
      "cell_type": "code",
      "source": [
        "multi(3)"
      ],
      "metadata": {
        "colab": {
          "base_uri": "https://localhost:8080/"
        },
        "id": "G6nOqZ-Tpsym",
        "outputId": "b39f127d-6c9e-459f-8aee-ae38c3e1ff8e"
      },
      "execution_count": 25,
      "outputs": [
        {
          "output_type": "stream",
          "name": "stdout",
          "text": [
            "3*0=0\n",
            "3*1=3\n",
            "3*2=6\n",
            "3*3=9\n",
            "3*4=12\n",
            "3*5=15\n",
            "3*6=18\n",
            "3*7=21\n",
            "3*8=24\n",
            "3*9=27\n",
            "3*10=30\n",
            "3*11=33\n"
          ]
        }
      ]
    }
  ]
}
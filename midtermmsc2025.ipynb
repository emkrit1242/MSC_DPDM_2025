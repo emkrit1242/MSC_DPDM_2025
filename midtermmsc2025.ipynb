{
  "nbformat": 4,
  "nbformat_minor": 0,
  "metadata": {
    "colab": {
      "provenance": [],
      "include_colab_link": true
    },
    "kernelspec": {
      "name": "python3",
      "display_name": "Python 3"
    },
    "language_info": {
      "name": "python"
    }
  },
  "cells": [
    {
      "cell_type": "markdown",
      "metadata": {
        "id": "view-in-github",
        "colab_type": "text"
      },
      "source": [
        "<a href=\"https://colab.research.google.com/github/emkrit1242/MSC_DPDM_2025/blob/main/midtermmsc2025.ipynb\" target=\"_parent\"><img src=\"https://colab.research.google.com/assets/colab-badge.svg\" alt=\"Open In Colab\"/></a>"
      ]
    },
    {
      "cell_type": "markdown",
      "source": [
        "ตรวจให้คะแนน Notebook ต่อไปนี้\n",
        "\n",
        "*   https://kku.world/mscdpdmmid1\n",
        "*   https://kku.world/mscdpdmmid2\n",
        "*   https://kku.world/mscdpdmmid3\n",
        "\n",
        "\n",
        "โดย ถ้าผิดชี้จุดที่ผิดและแก้ให้ถูก (ส่ง code ทั้งหมดผ่าน shared google drive) ถ้าถูกให้คะแนนตามที่กำหนด\n",
        "\n",
        "โดยโจทย์คือ\n",
        "\n",
        "\n",
        "\n",
        "> ให้สืบหาฆาตรกร (10 คะแนน) และ ผู้บงการ (5 คะแนน) ในคดี ฆาตรกรรม (murder) ที่เกิดขึ้นในวันที่ 15 มกราคม 2018 ที่เมือง Pandas City โดยเริ่มจากการตรวจสอบ ข้อมูลคดีในไฟล์ crime_scene_report.csv\n",
        "\n",
        "และข้อมูลคือ\n",
        "\n",
        "\n",
        "\n",
        "> https://drive.google.com/drive/folders/1NNHhxwOjqKz1YahEP-vUK2Oy_BZ2MJbv?usp=sharing\n",
        "\n",
        "\n",
        "\n"
      ],
      "metadata": {
        "id": "i4IbAxc8ArWd"
      }
    },
    {
      "cell_type": "code",
      "execution_count": null,
      "metadata": {
        "id": "a-o2SiCBAnvD"
      },
      "outputs": [],
      "source": []
    },
    {
      "cell_type": "markdown",
      "source": [
        "#ตรวจไฟล์ 1\n",
        "[mscdpdmmid1](https://colab.research.google.com/drive/13UaEuxCSkvX7jaJL2Fyxvj0BKwwqdrB_)"
      ],
      "metadata": {
        "id": "RKtkfzQirzhS"
      }
    },
    {
      "cell_type": "markdown",
      "source": [
        "มีจุดแก้ไข 1 จุด\n",
        "\n",
        "\n",
        "ให้คะแนน การสืบหาฆาตรกร (7 คะแนน)\n",
        "ไม่สามารถระบุได้ว่าฆาตรกรคือใคร\n",
        "\n",
        "และ ให้คะแนน การหาผู้บงการ (3 คะแนน)\n",
        "ไม่สามารถระบุได้ว่าผู้บงการคือใคร\n",
        "\n"
      ],
      "metadata": {
        "id": "jwEFRl_h6MZl"
      }
    },
    {
      "cell_type": "markdown",
      "source": [
        "#ตรวจไฟล์ 2\n",
        "[mscdpdmmid2](https://colab.research.google.com/drive/1IQuAujSaYvCJ2u2Oc5vJPqkDI-bHrDjb)"
      ],
      "metadata": {
        "id": "jgSWftgtsRhs"
      }
    },
    {
      "cell_type": "markdown",
      "source": [
        "มีจุดแก้ไขหลายจุด ส่วนใหญ่เป็น file_path\n",
        "\n",
        "ให้คะแนน การสืบหาฆาตรกร (9 คะแนน)\n",
        "สามาถาระบุตัวฆาตรกรได้\n",
        "\n",
        "และ ให้คะแนน การหาผู้บงการ (4 คะแนน)\n",
        "สามารถระบุ ID ของผู้บงการได้ แต่ไม่ระบุชื่อมา โดยสืบหาเบาะแสจากคำให้การของฆาตรกรได้ถูกต้อง\n"
      ],
      "metadata": {
        "id": "odnMpkrrsTTC"
      }
    },
    {
      "cell_type": "markdown",
      "source": [
        "#ตรวจไฟล์ 3\n",
        "[mscdpdmmid3](https://colab.research.google.com/drive/1T_iTF6eC_ske9Plhl-k0cyxFclrKfuaT)"
      ],
      "metadata": {
        "id": "rIHb2yS2sVNh"
      }
    },
    {
      "cell_type": "markdown",
      "source": [
        "มีจุดแก้ไข 1 จุด คือแก้ชื่อตัวแปรในcodeจาก person เป็น persons\n",
        "\n",
        "\n",
        "ให้คะแนน การสืบหาฆาตรกร (9 คะแนน)\n",
        "สามาถาระบุตัวฆาตรกรได้ โดยดูจากคำให้การ แต่รีบสรุปตัวฆาตรกรเกินไปควรจะหาหลักฐานที่รัดกุมกว่านี้\n",
        "\n",
        "และ ให้คะแนน การหาผู้บงการ (5 คะแนน)\n",
        "สามารถระบุผู้บงการได้ โดยสืบหาเบาะแสจากคำให้การของฆาตรกรได้ถูกต้อง"
      ],
      "metadata": {
        "id": "b9crd8UcsU4c"
      }
    }
  ]
}
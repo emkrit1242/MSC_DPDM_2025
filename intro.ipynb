{
  "nbformat": 4,
  "nbformat_minor": 0,
  "metadata": {
    "colab": {
      "provenance": [],
      "authorship_tag": "ABX9TyMj+s3ruRv4CUXlYC4ZfVZ/",
      "include_colab_link": true
    },
    "kernelspec": {
      "name": "python3",
      "display_name": "Python 3"
    },
    "language_info": {
      "name": "python"
    }
  },
  "cells": [
    {
      "cell_type": "markdown",
      "metadata": {
        "id": "view-in-github",
        "colab_type": "text"
      },
      "source": [
        "<a href=\"https://colab.research.google.com/github/emkrit1242/MSC_DPDM_2025/blob/main/intro.ipynb\" target=\"_parent\"><img src=\"https://colab.research.google.com/assets/colab-badge.svg\" alt=\"Open In Colab\"/></a>"
      ]
    },
    {
      "cell_type": "markdown",
      "source": [
        "#**Markdown**"
      ],
      "metadata": {
        "id": "nMPtlNbUpj9V"
      }
    },
    {
      "cell_type": "code",
      "execution_count": 1,
      "metadata": {
        "colab": {
          "base_uri": "https://localhost:8080/"
        },
        "id": "atsQzDdgpJTp",
        "outputId": "d364a859-2b91-4b7c-e7d4-eca6947b8bd5"
      },
      "outputs": [
        {
          "output_type": "stream",
          "name": "stdout",
          "text": [
            "kritsadakorn\n"
          ]
        }
      ],
      "source": [
        "print(\"kritsadakorn\")"
      ]
    },
    {
      "cell_type": "code",
      "source": [
        "print(\"phuyodploy\")"
      ],
      "metadata": {
        "colab": {
          "base_uri": "https://localhost:8080/"
        },
        "id": "HHNuubC5pRHL",
        "outputId": "d8a59e30-c971-446b-b8e8-40e85b1f53fe"
      },
      "execution_count": 2,
      "outputs": [
        {
          "output_type": "stream",
          "name": "stdout",
          "text": [
            "phuyodploy\n"
          ]
        }
      ]
    }
  ]
}